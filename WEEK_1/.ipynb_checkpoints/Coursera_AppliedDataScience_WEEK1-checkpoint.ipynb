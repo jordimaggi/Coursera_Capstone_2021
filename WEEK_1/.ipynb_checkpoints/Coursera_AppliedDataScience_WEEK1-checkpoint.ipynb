{
 "cells": [
  {
   "cell_type": "markdown",
   "id": "016ba4f2-ca68-4e66-95b3-5e995530857d",
   "metadata": {},
   "source": [
    "# Capstone Project Notebook #"
   ]
  },
  {
   "cell_type": "markdown",
   "id": "96baa317-4d80-4477-b3f8-6926c32603c3",
   "metadata": {},
   "source": [
    "This notebook is used to for the capstone project of the Applied Data Science course on Coursera, offered by IBM."
   ]
  },
  {
   "cell_type": "code",
   "execution_count": null,
   "id": "ef255b65-2bef-41d8-a3e6-4cafabc19bb6",
   "metadata": {},
   "outputs": [],
   "source": [
    "import pandas as pd\n",
    "import numpy as np\n",
    "\n",
    "print('Hello Capstone Project Course!')"
   ]
  }
 ],
 "metadata": {
  "kernelspec": {
   "display_name": "Python 3",
   "language": "python",
   "name": "python3"
  },
  "language_info": {
   "codemirror_mode": {
    "name": "ipython",
    "version": 3
   },
   "file_extension": ".py",
   "mimetype": "text/x-python",
   "name": "python",
   "nbconvert_exporter": "python",
   "pygments_lexer": "ipython3",
   "version": "3.8.1"
  }
 },
 "nbformat": 4,
 "nbformat_minor": 5
}
